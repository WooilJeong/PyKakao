{
 "cells": [
  {
   "cell_type": "code",
   "execution_count": 14,
   "metadata": {},
   "outputs": [],
   "source": [
    "from PyKakao import KakaoLocal\n",
    "from config import Config\n",
    "\n",
    "config=Config()"
   ]
  },
  {
   "cell_type": "code",
   "execution_count": 15,
   "metadata": {},
   "outputs": [],
   "source": [
    "# 카카오 로컬 API 인증키\n",
    "service_key = config.OPEN_API['kakao']\n",
    "# 카카오 로컬 API 세션 정의\n",
    "KL = KakaoLocal(service_key)"
   ]
  },
  {
   "cell_type": "code",
   "execution_count": 13,
   "metadata": {},
   "outputs": [
    {
     "data": {
      "text/plain": [
       "{'documents': [{'address': {'address_name': '경기 성남시 분당구 백현동 541',\n",
       "    'b_code': '4113511000',\n",
       "    'h_code': '4113565700',\n",
       "    'main_address_no': '541',\n",
       "    'mountain_yn': 'N',\n",
       "    'region_1depth_name': '경기',\n",
       "    'region_2depth_name': '성남시 분당구',\n",
       "    'region_3depth_h_name': '백현동',\n",
       "    'region_3depth_name': '백현동',\n",
       "    'sub_address_no': '',\n",
       "    'x': '127.112037135835',\n",
       "    'y': '37.3926536571583'},\n",
       "   'address_name': '경기 성남시 분당구 백현동 541',\n",
       "   'address_type': 'REGION_ADDR',\n",
       "   'road_address': {'address_name': '경기 성남시 분당구 판교역로146번길 20',\n",
       "    'building_name': '현대백화점 판교점',\n",
       "    'main_building_no': '20',\n",
       "    'region_1depth_name': '경기',\n",
       "    'region_2depth_name': '성남시 분당구',\n",
       "    'region_3depth_name': '백현동',\n",
       "    'road_name': '판교역로146번길',\n",
       "    'sub_building_no': '',\n",
       "    'underground_yn': 'N',\n",
       "    'x': '127.112017130086',\n",
       "    'y': '37.39279369494',\n",
       "    'zone_no': '13529'},\n",
       "   'x': '127.112037135835',\n",
       "   'y': '37.3926536571583'}],\n",
       " 'meta': {'is_end': True, 'pageable_count': 1, 'total_count': 1}}"
      ]
     },
     "execution_count": 13,
     "metadata": {},
     "output_type": "execute_result"
    }
   ],
   "source": [
    "# 1. 주소 검색하기\n",
    "address = \"백현동 541\"\n",
    "result = KL.search_address(address)\n",
    "result"
   ]
  },
  {
   "cell_type": "code",
   "execution_count": 16,
   "metadata": {},
   "outputs": [
    {
     "data": {
      "text/plain": [
       "{'meta': {'total_count': 2},\n",
       " 'documents': [{'region_type': 'B',\n",
       "   'code': '4113511000',\n",
       "   'address_name': '경기도 성남시 분당구 백현동',\n",
       "   'region_1depth_name': '경기도',\n",
       "   'region_2depth_name': '성남시 분당구',\n",
       "   'region_3depth_name': '백현동',\n",
       "   'region_4depth_name': '',\n",
       "   'x': 127.11087131921613,\n",
       "   'y': 37.388549067217625},\n",
       "  {'region_type': 'H',\n",
       "   'code': '4113565700',\n",
       "   'address_name': '경기도 성남시 분당구 백현동',\n",
       "   'region_1depth_name': '경기도',\n",
       "   'region_2depth_name': '성남시 분당구',\n",
       "   'region_3depth_name': '백현동',\n",
       "   'region_4depth_name': '',\n",
       "   'x': 127.11087131921613,\n",
       "   'y': 37.388549067217625}]}"
      ]
     },
     "execution_count": 16,
     "metadata": {},
     "output_type": "execute_result"
    }
   ],
   "source": [
    "# 2. 좌표로 행정구역정보 받기\n",
    "x, y = 127.11198669812507, 37.392627919703536\n",
    "result = KL.geo_coord2regioncode(x, y)\n",
    "result"
   ]
  },
  {
   "cell_type": "code",
   "execution_count": 17,
   "metadata": {},
   "outputs": [
    {
     "data": {
      "text/plain": [
       "{'meta': {'total_count': 1},\n",
       " 'documents': [{'road_address': {'address_name': '경기도 성남시 분당구 판교역로146번길 20',\n",
       "    'region_1depth_name': '경기',\n",
       "    'region_2depth_name': '성남시 분당구',\n",
       "    'region_3depth_name': '',\n",
       "    'road_name': '판교역로146번길',\n",
       "    'underground_yn': 'N',\n",
       "    'main_building_no': '20',\n",
       "    'sub_building_no': '',\n",
       "    'building_name': '현대백화점 판교점',\n",
       "    'zone_no': '13529'},\n",
       "   'address': {'address_name': '경기 성남시 분당구 백현동 541',\n",
       "    'region_1depth_name': '경기',\n",
       "    'region_2depth_name': '성남시 분당구',\n",
       "    'region_3depth_name': '백현동',\n",
       "    'mountain_yn': 'N',\n",
       "    'main_address_no': '541',\n",
       "    'sub_address_no': '',\n",
       "    'zip_code': ''}}]}"
      ]
     },
     "execution_count": 17,
     "metadata": {},
     "output_type": "execute_result"
    }
   ],
   "source": [
    "# 3. 좌표로 주소 변환하기\n",
    "x, y = 127.11198669812507, 37.392627919703536\n",
    "result = KL.geo_coord2address(x, y)\n",
    "result"
   ]
  },
  {
   "cell_type": "code",
   "execution_count": 21,
   "metadata": {},
   "outputs": [
    {
     "data": {
      "text/plain": [
       "{'meta': {'total_count': 1},\n",
       " 'documents': [{'x': 209916.63703445005, 'y': 432593.2082232768}]}"
      ]
     },
     "execution_count": 21,
     "metadata": {},
     "output_type": "execute_result"
    }
   ],
   "source": [
    "# 4. 좌표계 변환하기\n",
    "x, y = 127.11198669812507, 37.392627919703536\n",
    "output_coord = \"WTM\"\n",
    "input_coord = \"WGS84\"\n",
    "result = KL.geo_transcoord(x, y, output_coord, input_coord)\n",
    "result"
   ]
  },
  {
   "cell_type": "code",
   "execution_count": 26,
   "metadata": {},
   "outputs": [
    {
     "data": {
      "text/plain": [
       "{'documents': [{'address_name': '경기 성남시 분당구 백현동 537',\n",
       "   'category_group_code': 'CE7',\n",
       "   'category_group_name': '카페',\n",
       "   'category_name': '음식점 > 카페 > 커피전문점 > 스타벅스',\n",
       "   'distance': '231',\n",
       "   'id': '382618195',\n",
       "   'phone': '1522-3232',\n",
       "   'place_name': '스타벅스 판교알파돔타워',\n",
       "   'place_url': 'http://place.map.kakao.com/382618195',\n",
       "   'road_address_name': '경기 성남시 분당구 판교역로 152',\n",
       "   'x': '127.110364770136',\n",
       "   'y': '37.3942620223016'},\n",
       "  {'address_name': '경기 성남시 분당구 백현동 531',\n",
       "   'category_group_code': 'CE7',\n",
       "   'category_group_name': '카페',\n",
       "   'category_name': '음식점 > 카페 > 커피전문점 > 스타벅스',\n",
       "   'distance': '309',\n",
       "   'id': '27528340',\n",
       "   'phone': '1522-3232',\n",
       "   'place_name': '스타벅스 판교알파돔시티점',\n",
       "   'place_url': 'http://place.map.kakao.com/27528340',\n",
       "   'road_address_name': '경기 성남시 분당구 대왕판교로606번길 10',\n",
       "   'x': '127.109353202048',\n",
       "   'y': '37.3944611869007'}],\n",
       " 'meta': {'is_end': True,\n",
       "  'pageable_count': 2,\n",
       "  'same_name': {'keyword': '스타벅스', 'region': [], 'selected_region': ''},\n",
       "  'total_count': 2}}"
      ]
     },
     "execution_count": 26,
     "metadata": {},
     "output_type": "execute_result"
    }
   ],
   "source": [
    "# 5. 키워드로 장소 검색하기\n",
    "query = \"스타벅스\"\n",
    "category_group_code = \"CE7\"                     # 카페\n",
    "x, y = 127.11198669812507, 37.392627919703536   # 중심 좌표\n",
    "radius = 500                                    # 반경거리(m)\n",
    "\n",
    "result = KL.search_keyword(query, category_group_code, x, y, radius)\n",
    "result"
   ]
  },
  {
   "cell_type": "code",
   "execution_count": 29,
   "metadata": {},
   "outputs": [
    {
     "data": {
      "text/plain": [
       "{'documents': [{'address_name': '경기 성남시 분당구 백현동 541',\n",
       "   'category_group_code': 'CE7',\n",
       "   'category_group_name': '카페',\n",
       "   'category_name': '음식점 > 카페',\n",
       "   'distance': '4',\n",
       "   'id': '1513310698',\n",
       "   'phone': '031-5170-1354',\n",
       "   'place_name': '메종키츠네카페',\n",
       "   'place_url': 'http://place.map.kakao.com/1513310698',\n",
       "   'road_address_name': '경기 성남시 분당구 판교역로146번길 20',\n",
       "   'x': '127.11195356152',\n",
       "   'y': '37.3926486004944'},\n",
       "  {'address_name': '경기 성남시 분당구 백현동 541',\n",
       "   'category_group_code': 'CE7',\n",
       "   'category_group_name': '카페',\n",
       "   'category_name': '음식점 > 카페 > 커피전문점',\n",
       "   'distance': '20',\n",
       "   'id': '768523904',\n",
       "   'phone': '031-5170-3259',\n",
       "   'place_name': '카멜커피',\n",
       "   'place_url': 'http://place.map.kakao.com/768523904',\n",
       "   'road_address_name': '경기 성남시 분당구 판교역로146번길 20',\n",
       "   'x': '127.11208816176',\n",
       "   'y': '37.3927935375378'},\n",
       "  {'address_name': '경기 성남시 분당구 백현동 541',\n",
       "   'category_group_code': 'CE7',\n",
       "   'category_group_name': '카페',\n",
       "   'category_name': '음식점 > 카페',\n",
       "   'distance': '21',\n",
       "   'id': '1977510940',\n",
       "   'phone': '031-5170-1073',\n",
       "   'place_name': '콩카페 현대백화점 판교점',\n",
       "   'place_url': 'http://place.map.kakao.com/1977510940',\n",
       "   'road_address_name': '경기 성남시 분당구 판교역로146번길 20',\n",
       "   'x': '127.112052051575',\n",
       "   'y': '37.3928115922017'},\n",
       "  {'address_name': '경기 성남시 분당구 백현동 541',\n",
       "   'category_group_code': 'CE7',\n",
       "   'category_group_name': '카페',\n",
       "   'category_name': '음식점 > 카페',\n",
       "   'distance': '19',\n",
       "   'id': '26944969',\n",
       "   'phone': '031-5170-1562',\n",
       "   'place_name': '마이알레',\n",
       "   'place_url': 'http://place.map.kakao.com/26944969',\n",
       "   'road_address_name': '경기 성남시 분당구 판교역로146번길 20',\n",
       "   'x': '127.112052030116',\n",
       "   'y': '37.3927971758692'},\n",
       "  {'address_name': '경기 성남시 분당구 백현동 541',\n",
       "   'category_group_code': 'CE7',\n",
       "   'category_group_name': '카페',\n",
       "   'category_name': '음식점 > 카페',\n",
       "   'distance': '19',\n",
       "   'id': '26945099',\n",
       "   'phone': '031-5170-1055',\n",
       "   'place_name': '이스팀 판교점',\n",
       "   'place_url': 'http://place.map.kakao.com/26945099',\n",
       "   'road_address_name': '경기 성남시 분당구 판교역로146번길 20',\n",
       "   'x': '127.112052030116',\n",
       "   'y': '37.3927971758692'},\n",
       "  {'address_name': '경기 성남시 분당구 백현동 541',\n",
       "   'category_group_code': 'CE7',\n",
       "   'category_group_name': '카페',\n",
       "   'category_name': '음식점 > 카페',\n",
       "   'distance': '19',\n",
       "   'id': '26945098',\n",
       "   'phone': '',\n",
       "   'place_name': '조앤더주스',\n",
       "   'place_url': 'http://place.map.kakao.com/26945098',\n",
       "   'road_address_name': '경기 성남시 분당구 판교역로146번길 20',\n",
       "   'x': '127.112052030116',\n",
       "   'y': '37.3927971758692'},\n",
       "  {'address_name': '경기 성남시 분당구 백현동 541',\n",
       "   'category_group_code': 'CE7',\n",
       "   'category_group_name': '카페',\n",
       "   'category_name': '음식점 > 카페',\n",
       "   'distance': '19',\n",
       "   'id': '663435989',\n",
       "   'phone': '031-604-6527',\n",
       "   'place_name': '뉴오리진 현대백화점 판교점',\n",
       "   'place_url': 'http://place.map.kakao.com/663435989',\n",
       "   'road_address_name': '경기 성남시 분당구 판교역로146번길 20',\n",
       "   'x': '127.112033961611',\n",
       "   'y': '37.3927971929892'},\n",
       "  {'address_name': '경기 성남시 분당구 백현동 541',\n",
       "   'category_group_code': 'CE7',\n",
       "   'category_group_name': '카페',\n",
       "   'category_name': '음식점 > 카페 > 커피전문점',\n",
       "   'distance': '37',\n",
       "   'id': '2058534858',\n",
       "   'phone': '031-5170-2365',\n",
       "   'place_name': '포스트커피하우스 현대백화점 판교점',\n",
       "   'place_url': 'http://place.map.kakao.com/2058534858',\n",
       "   'road_address_name': '경기 성남시 분당구 판교역로146번길 20',\n",
       "   'x': '127.112124534969',\n",
       "   'y': '37.3929520829337'},\n",
       "  {'address_name': '경기 성남시 분당구 백현동 541',\n",
       "   'category_group_code': 'CE7',\n",
       "   'category_group_name': '카페',\n",
       "   'category_name': '음식점 > 카페 > 커피전문점',\n",
       "   'distance': '19',\n",
       "   'id': '26944938',\n",
       "   'phone': '031-5170-2443',\n",
       "   'place_name': '띵크커피 현대판교점',\n",
       "   'place_url': 'http://place.map.kakao.com/26944938',\n",
       "   'road_address_name': '경기 성남시 분당구 판교역로146번길 20',\n",
       "   'x': '127.112052030116',\n",
       "   'y': '37.3927971758692'},\n",
       "  {'address_name': '경기 성남시 분당구 백현동 541',\n",
       "   'category_group_code': 'CE7',\n",
       "   'category_group_name': '카페',\n",
       "   'category_name': '음식점 > 카페 > 커피전문점',\n",
       "   'distance': '20',\n",
       "   'id': '596344420',\n",
       "   'phone': '',\n",
       "   'place_name': '투썸커피 현대판교CGV스윗바점',\n",
       "   'place_url': 'http://place.map.kakao.com/596344420',\n",
       "   'road_address_name': '경기 성남시 분당구 판교역로146번길 20',\n",
       "   'x': '127.11208816176',\n",
       "   'y': '37.3927935375378'},\n",
       "  {'address_name': '경기 성남시 분당구 백현동 541',\n",
       "   'category_group_code': 'CE7',\n",
       "   'category_group_name': '카페',\n",
       "   'category_name': '음식점 > 카페 > 공차',\n",
       "   'distance': '20',\n",
       "   'id': '26945118',\n",
       "   'phone': '',\n",
       "   'place_name': '공차 현대판교점',\n",
       "   'place_url': 'http://place.map.kakao.com/26945118',\n",
       "   'road_address_name': '경기 성남시 분당구 판교역로146번길 20',\n",
       "   'x': '127.112020426322',\n",
       "   'y': '37.3928080180767'},\n",
       "  {'address_name': '경기 성남시 분당구 백현동 541',\n",
       "   'category_group_code': 'CE7',\n",
       "   'category_group_name': '카페',\n",
       "   'category_name': '음식점 > 카페',\n",
       "   'distance': '3',\n",
       "   'id': '852952095',\n",
       "   'phone': '031-517-0206',\n",
       "   'place_name': '카페하이웨스트 판교점',\n",
       "   'place_url': 'http://place.map.kakao.com/852952095',\n",
       "   'road_address_name': '경기 성남시 분당구 판교역로146번길 20',\n",
       "   'x': '127.111956902457',\n",
       "   'y': '37.3926170615586'},\n",
       "  {'address_name': '경기 성남시 분당구 백현동 541',\n",
       "   'category_group_code': 'CE7',\n",
       "   'category_group_name': '카페',\n",
       "   'category_name': '음식점 > 카페 > 테마카페 > 디저트카페',\n",
       "   'distance': '10',\n",
       "   'id': '830392343',\n",
       "   'phone': '',\n",
       "   'place_name': '이억녀의마카롱',\n",
       "   'place_url': 'http://place.map.kakao.com/830392343',\n",
       "   'road_address_name': '경기 성남시 분당구 판교역로146번길 20',\n",
       "   'x': '127.11193420434',\n",
       "   'y': '37.3925413971911'},\n",
       "  {'address_name': '경기 성남시 분당구 백현동 541',\n",
       "   'category_group_code': 'CE7',\n",
       "   'category_group_name': '카페',\n",
       "   'category_name': '음식점 > 카페',\n",
       "   'distance': '18',\n",
       "   'id': '1655044748',\n",
       "   'phone': '031-5170-1013',\n",
       "   'place_name': '야쿤카야토스트 현대백화점 판교점',\n",
       "   'place_url': 'http://place.map.kakao.com/1655044748',\n",
       "   'road_address_name': '경기 성남시 분당구 판교역로146번길 20',\n",
       "   'x': '127.11206555601',\n",
       "   'y': '37.3927800436325'},\n",
       "  {'address_name': '경기 성남시 분당구 백현동 541',\n",
       "   'category_group_code': 'CE7',\n",
       "   'category_group_name': '카페',\n",
       "   'category_name': '음식점 > 카페',\n",
       "   'distance': '16',\n",
       "   'id': '515863612',\n",
       "   'phone': '031-5170-1011',\n",
       "   'place_name': '바리 현대백화점 판교점',\n",
       "   'place_url': 'http://place.map.kakao.com/515863612',\n",
       "   'road_address_name': '경기 성남시 분당구 판교역로146번길 20',\n",
       "   'x': '127.112029412303',\n",
       "   'y': '37.3927755727699'}],\n",
       " 'meta': {'is_end': False,\n",
       "  'pageable_count': 32,\n",
       "  'same_name': None,\n",
       "  'total_count': 32}}"
      ]
     },
     "execution_count": 29,
     "metadata": {},
     "output_type": "execute_result"
    }
   ],
   "source": [
    "# 6. 카테고리로 장소 검색하기\n",
    "category_group_code = \"CE7\"                     # 카페\n",
    "x, y = 127.11198669812507, 37.392627919703536   # 중심 좌표\n",
    "radius = 50                                     # 반경거리(m)\n",
    "\n",
    "result = KL.search_category(category_group_code, x, y, radius)\n",
    "result"
   ]
  },
  {
   "cell_type": "code",
   "execution_count": null,
   "metadata": {},
   "outputs": [],
   "source": []
  },
  {
   "cell_type": "code",
   "execution_count": null,
   "metadata": {},
   "outputs": [],
   "source": []
  }
 ],
 "metadata": {
  "interpreter": {
   "hash": "9843a93248b1ba79046708ec50b04a6a58df39145e631f5e0b8eab7a2937b00e"
  },
  "kernelspec": {
   "display_name": "Python 3.8.12 64-bit ('venv': conda)",
   "language": "python",
   "name": "python3"
  },
  "language_info": {
   "codemirror_mode": {
    "name": "ipython",
    "version": 3
   },
   "file_extension": ".py",
   "mimetype": "text/x-python",
   "name": "python",
   "nbconvert_exporter": "python",
   "pygments_lexer": "ipython3",
   "version": "3.8.8"
  },
  "orig_nbformat": 4
 },
 "nbformat": 4,
 "nbformat_minor": 2
}
