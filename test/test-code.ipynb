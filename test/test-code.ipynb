{
 "cells": [
  {
   "cell_type": "code",
   "execution_count": 1,
   "metadata": {},
   "outputs": [],
   "source": [
    "import os\n",
    "import sys\n",
    "from pathlib import Path\n",
    "sys.path.append(str(Path(os.getcwd()).parent))"
   ]
  },
  {
   "cell_type": "code",
   "execution_count": 2,
   "metadata": {},
   "outputs": [],
   "source": [
    "from PyKakao import *\n",
    "from config import KEYS"
   ]
  },
  {
   "cell_type": "code",
   "execution_count": 3,
   "metadata": {},
   "outputs": [],
   "source": [
    "API = KakaoDaumSearch()"
   ]
  },
  {
   "cell_type": "markdown",
   "metadata": {},
   "source": [
    "## Search"
   ]
  },
  {
   "cell_type": "code",
   "execution_count": null,
   "metadata": {},
   "outputs": [],
   "source": [
    "# 카카오 로컬 API 인증키\n",
    "service_key = KEYS.get(\"KAKAO\")\n",
    "# 카카오 로컬 API 세션 정의\n",
    "API = KakaoDaumSearch(service_key)"
   ]
  },
  {
   "cell_type": "code",
   "execution_count": null,
   "metadata": {},
   "outputs": [],
   "source": [
    "params = {\n",
    "    \"query\": \"Python\",\n",
    "}\n",
    "data = API.search_web(**params)\n",
    "data"
   ]
  },
  {
   "cell_type": "markdown",
   "metadata": {},
   "source": [
    "## KakaoLocal"
   ]
  },
  {
   "cell_type": "code",
   "execution_count": null,
   "metadata": {},
   "outputs": [],
   "source": [
    "# 카카오 로컬 API 인증키\n",
    "service_key = KEYS.get(\"KAKAO\")\n",
    "# 카카오 로컬 API 세션 정의\n",
    "API = KakaoLocal(service_key)"
   ]
  },
  {
   "cell_type": "code",
   "execution_count": null,
   "metadata": {},
   "outputs": [],
   "source": [
    "# 1. 주소 검색하기\n",
    "address = \"백현동 541\"\n",
    "result = API.search_address(address)\n",
    "result"
   ]
  },
  {
   "cell_type": "code",
   "execution_count": null,
   "metadata": {},
   "outputs": [],
   "source": [
    "# 2. 좌표로 행정구역정보 받기\n",
    "x, y = 127.11198669812507, 37.392627919703536\n",
    "result = API.geo_coord2regioncode(x, y)\n",
    "result"
   ]
  },
  {
   "cell_type": "code",
   "execution_count": null,
   "metadata": {},
   "outputs": [],
   "source": [
    "# 3. 좌표로 주소 변환하기\n",
    "x, y = 127.11198669812507, 37.392627919703536\n",
    "result = API.geo_coord2address(x, y)\n",
    "result"
   ]
  },
  {
   "cell_type": "code",
   "execution_count": null,
   "metadata": {},
   "outputs": [],
   "source": [
    "# 4. 좌표계 변환하기\n",
    "x, y = 127.11198669812507, 37.392627919703536\n",
    "output_coord = \"WTM\"\n",
    "input_coord = \"WGS84\"\n",
    "result = API.geo_transcoord(x, y, output_coord, input_coord)\n",
    "result"
   ]
  },
  {
   "cell_type": "code",
   "execution_count": null,
   "metadata": {},
   "outputs": [],
   "source": [
    "# 5. 키워드로 장소 검색하기\n",
    "query = \"스타벅스\"\n",
    "category_group_code = \"CE7\"                     # 카페\n",
    "x, y = 127.11198669812507, 37.392627919703536   # 중심 좌표\n",
    "radius = 500                                    # 반경거리(m)\n",
    "\n",
    "result = API.search_keyword(query, category_group_code, x, y, radius)\n",
    "result"
   ]
  },
  {
   "cell_type": "code",
   "execution_count": null,
   "metadata": {},
   "outputs": [],
   "source": [
    "# 6. 카테고리로 장소 검색하기\n",
    "category_group_code = \"CE7\"                     # 카페\n",
    "x, y = 127.11198669812507, 37.392627919703536   # 중심 좌표\n",
    "radius = 50                                     # 반경거리(m)\n",
    "\n",
    "result = API.search_category(category_group_code, x, y, radius)\n",
    "result"
   ]
  },
  {
   "cell_type": "code",
   "execution_count": null,
   "metadata": {},
   "outputs": [],
   "source": [
    "import pandas as pd\n",
    "df = pd.json_normalize(result.get(\"documents\"))"
   ]
  },
  {
   "cell_type": "code",
   "execution_count": null,
   "metadata": {},
   "outputs": [],
   "source": [
    "df"
   ]
  },
  {
   "cell_type": "code",
   "execution_count": null,
   "metadata": {},
   "outputs": [],
   "source": []
  }
 ],
 "metadata": {
  "kernelspec": {
   "display_name": "Python 3.9.12 ('venv': venv)",
   "language": "python",
   "name": "python3"
  },
  "language_info": {
   "codemirror_mode": {
    "name": "ipython",
    "version": 3
   },
   "file_extension": ".py",
   "mimetype": "text/x-python",
   "name": "python",
   "nbconvert_exporter": "python",
   "pygments_lexer": "ipython3",
   "version": "3.9.12"
  },
  "orig_nbformat": 4,
  "vscode": {
   "interpreter": {
    "hash": "567ebf779ab057336346e5e5d8765889add1baa170f14c836a9fdc8dbc506338"
   }
  }
 },
 "nbformat": 4,
 "nbformat_minor": 2
}
