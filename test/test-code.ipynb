{
 "cells": [
  {
   "cell_type": "code",
   "execution_count": 1,
   "metadata": {},
   "outputs": [],
   "source": [
    "import os\n",
    "import sys\n",
    "from pathlib import Path\n",
    "sys.path.append(str(Path(os.getcwd()).parent))"
   ]
  },
  {
   "cell_type": "code",
   "execution_count": 2,
   "metadata": {},
   "outputs": [],
   "source": [
    "from PyKakao import *\n",
    "from config import KEYS"
   ]
  },
  {
   "cell_type": "code",
   "execution_count": 3,
   "metadata": {},
   "outputs": [],
   "source": [
    "# 카카오 REST API 키\n",
    "service_key = KEYS.get(\"KAKAO\")"
   ]
  },
  {
   "attachments": {},
   "cell_type": "markdown",
   "metadata": {},
   "source": [
    "# Message"
   ]
  },
  {
   "cell_type": "code",
   "execution_count": null,
   "metadata": {},
   "outputs": [],
   "source": [
    "# 카카오 메시지 API 인스턴스 생성\n",
    "API = Message(service_key)"
   ]
  },
  {
   "cell_type": "code",
   "execution_count": null,
   "metadata": {},
   "outputs": [],
   "source": [
    "# 카카오 인증코드 발급 URL 생성\n",
    "auth_url = API.get_url_for_generatiing_code()\n",
    "print(auth_url)"
   ]
  },
  {
   "cell_type": "code",
   "execution_count": null,
   "metadata": {},
   "outputs": [],
   "source": [
    "# 카카오 인증코드 발급 URL 접속 후 리다이렉트된 URL\n",
    "url = \"\"\n",
    "# 위 URL로 액세스 토큰 추출\n",
    "access_token = API.get_access_token_by_redirected_url(url)"
   ]
  },
  {
   "cell_type": "code",
   "execution_count": null,
   "metadata": {},
   "outputs": [],
   "source": [
    "# 액세스 토큰 설정\n",
    "API.set_access_token(access_token)"
   ]
  },
  {
   "cell_type": "code",
   "execution_count": null,
   "metadata": {},
   "outputs": [],
   "source": [
    "# 피드 메시지 전송\n",
    "\n",
    "content = {\n",
    "            \"title\": \"오늘의 디저트\",\n",
    "            \"description\": \"아메리카노, 빵, 케익\",\n",
    "            \"image_url\": \"https://mud-kage.kakao.com/dn/NTmhS/btqfEUdFAUf/FjKzkZsnoeE4o19klTOVI1/openlink_640x640s.jpg\",\n",
    "            \"image_width\": 640,\n",
    "            \"image_height\": 640,\n",
    "            \"link\": {\n",
    "                \"web_url\": \"http://www.daum.net\",\n",
    "                \"mobile_web_url\": \"http://m.daum.net\",\n",
    "                \"android_execution_params\": \"contentId=100\",\n",
    "                \"ios_execution_params\": \"contentId=100\"\n",
    "            }\n",
    "        }\n",
    "\n",
    "item_content = {\n",
    "            \"profile_text\" :\"Kakao\",\n",
    "            \"profile_image_url\" :\"https://mud-kage.kakao.com/dn/Q2iNx/btqgeRgV54P/VLdBs9cvyn8BJXB3o7N8UK/kakaolink40_original.png\",\n",
    "            \"title_image_url\" : \"https://mud-kage.kakao.com/dn/Q2iNx/btqgeRgV54P/VLdBs9cvyn8BJXB3o7N8UK/kakaolink40_original.png\",\n",
    "            \"title_image_text\" :\"Cheese cake\",\n",
    "            \"title_image_category\" : \"Cake\",\n",
    "            \"items\" : [\n",
    "                {\n",
    "                    \"item\" :\"Cake1\",\n",
    "                    \"item_op\" : \"1000원\"\n",
    "                },\n",
    "                {\n",
    "                    \"item\" :\"Cake2\",\n",
    "                    \"item_op\" : \"2000원\"\n",
    "                },\n",
    "                {\n",
    "                    \"item\" :\"Cake3\",\n",
    "                    \"item_op\" : \"3000원\"\n",
    "                },\n",
    "                {\n",
    "                    \"item\" :\"Cake4\",\n",
    "                    \"item_op\" : \"4000원\"\n",
    "                },\n",
    "                {\n",
    "                    \"item\" :\"Cake5\",\n",
    "                    \"item_op\" : \"5000원\"\n",
    "                }\n",
    "            ],\n",
    "            \"sum\" :\"Total\",\n",
    "            \"sum_op\" : \"15000원\"\n",
    "        }\n",
    "\n",
    "social = {\n",
    "            \"like_count\": 100,\n",
    "            \"comment_count\": 200,\n",
    "            \"shared_count\": 300,\n",
    "            \"view_count\": 400,\n",
    "            \"subscriber_count\": 500\n",
    "        }\n",
    "\n",
    "buttons = [\n",
    "            {\n",
    "                \"title\": \"웹으로 이동\",\n",
    "                \"link\": {\n",
    "                    \"web_url\": \"http://www.daum.net\",\n",
    "                    \"mobile_web_url\": \"http://m.daum.net\"\n",
    "                }\n",
    "            },\n",
    "            {\n",
    "                \"title\": \"앱으로 이동\",\n",
    "                \"link\": {\n",
    "                    \"android_execution_params\": \"contentId=100\",\n",
    "                    \"ios_execution_params\": \"contentId=100\"\n",
    "                }\n",
    "            }\n",
    "        ]\n",
    "\n",
    "API.send_feed(content=content, item_content=item_content, social=social, buttons=buttons)"
   ]
  },
  {
   "cell_type": "code",
   "execution_count": null,
   "metadata": {},
   "outputs": [],
   "source": [
    "# 리스트 메시지 전송\n",
    "\n",
    "header_title = \"WEEKELY MAGAZINE\"\n",
    "header_link = {\n",
    "            \"web_url\": \"http://www.daum.net\",\n",
    "            \"mobile_web_url\": \"http://m.daum.net\",\n",
    "            \"android_execution_params\": \"main\",\n",
    "            \"ios_execution_params\": \"main\"\n",
    "        }\n",
    "contents = [\n",
    "            {\n",
    "                \"title\": \"자전거 라이더를 위한 공간\",\n",
    "                \"description\": \"매거진\",\n",
    "                \"image_url\": \"https://mud-kage.kakao.com/dn/QNvGY/btqfD0SKT9m/k4KUlb1m0dKPHxGV8WbIK1/openlink_640x640s.jpg\",\n",
    "                \"image_width\": 640,\n",
    "                \"image_height\": 640,\n",
    "                \"link\": {\n",
    "                    \"web_url\": \"http://www.daum.net/contents/1\",\n",
    "                    \"mobile_web_url\": \"http://m.daum.net/contents/1\",\n",
    "                    \"android_execution_params\": \"/contents/1\",\n",
    "                    \"ios_execution_params\": \"/contents/1\"\n",
    "                }\n",
    "            },\n",
    "            {\n",
    "                \"title\": \"비쥬얼이 끝내주는 오레오 카푸치노\",\n",
    "                \"description\": \"매거진\",\n",
    "                \"image_url\": \"https://mud-kage.kakao.com/dn/boVWEm/btqfFGlOpJB/mKsq9z6U2Xpms3NztZgiD1/openlink_640x640s.jpg\",\n",
    "                \"image_width\": 640,\n",
    "                \"image_height\": 640,\n",
    "                \"link\": {\n",
    "                    \"web_url\": \"http://www.daum.net/contents/2\",\n",
    "                    \"mobile_web_url\": \"http://m.daum.net/contents/2\",\n",
    "                    \"android_execution_params\": \"/contents/2\",\n",
    "                    \"ios_execution_params\": \"/contents/2\"\n",
    "                }\n",
    "            },\n",
    "            {\n",
    "                \"title\": \"감성이 가득한 분위기\",\n",
    "                \"description\": \"매거진\",\n",
    "                \"image_url\": \"https://mud-kage.kakao.com/dn/NTmhS/btqfEUdFAUf/FjKzkZsnoeE4o19klTOVI1/openlink_640x640s.jpg\",\n",
    "                \"image_width\": 640,\n",
    "                \"image_height\": 640,\n",
    "                \"link\": {\n",
    "                    \"web_url\": \"http://www.daum.net/contents/3\",\n",
    "                    \"mobile_web_url\": \"http://m.daum.net/contents/3\",\n",
    "                    \"android_execution_params\": \"/contents/3\",\n",
    "                    \"ios_execution_params\": \"/contents/3\"\n",
    "                }\n",
    "            }\n",
    "        ]\n",
    "buttons = [\n",
    "            {\n",
    "                \"title\": \"웹으로 이동\",\n",
    "                \"link\": {\n",
    "                    \"web_url\": \"http://www.daum.net\",\n",
    "                    \"mobile_web_url\": \"http://m.daum.net\"\n",
    "                }\n",
    "            },\n",
    "            {\n",
    "                \"title\": \"앱으로 이동\",\n",
    "                \"link\": {\n",
    "                    \"android_execution_params\": \"main\",\n",
    "                    \"ios_execution_params\": \"main\"\n",
    "                }\n",
    "            }\n",
    "        ]\n",
    "\n",
    "\n",
    "API.send_list(header_title=header_title, header_link=header_link, contents=contents, buttons=buttons)"
   ]
  },
  {
   "cell_type": "code",
   "execution_count": null,
   "metadata": {},
   "outputs": [],
   "source": [
    "# 위치 메시지 전송\n",
    "\n",
    "address = \"경기 성남시 분당구 판교역로 235 에이치스퀘어 N동 7층\"\n",
    "address_title = \"카카오 판교오피스\"\n",
    "content = {\n",
    "                \"title\": \"카카오 판교오피스\",\n",
    "                \"description\": \"카카오 판교오피스 위치입니다.\",\n",
    "                \"image_url\": \"https://mud-kage.kakao.com/dn/drTdbB/bWYf06POFPf/owUHIt7K7NoGD0hrzFLeW0/kakaolink40_original.png\",\n",
    "                \"image_width\": 800,\n",
    "                \"image_height\": 800,\n",
    "                \"link\": {\n",
    "                    \"web_url\": \"https://developers.kakao.com\",\n",
    "                    \"mobile_web_url\": \"https://developers.kakao.com/mobile\",\n",
    "                    \"android_execution_params\": \"platform=android\",\n",
    "                    \"ios_execution_params\": \"platform=ios\"\n",
    "                }\n",
    "            }\n",
    "buttons = [\n",
    "                {\n",
    "                    \"title\": \"웹으로 보기\",\n",
    "                    \"link\": {\n",
    "                        \"web_url\": \"https://developers.kakao.com\",\n",
    "                        \"mobile_web_url\": \"https://developers.kakao.com/mobile\"\n",
    "                    }\n",
    "                }\n",
    "            ]\n",
    "\n",
    "API.send_location(address=address, address_title=address_title, content=content, buttons=buttons)"
   ]
  },
  {
   "cell_type": "code",
   "execution_count": null,
   "metadata": {},
   "outputs": [],
   "source": [
    "# 커머스 메시지 전송\n",
    "\n",
    "content = {\n",
    "            \"title\": \"Ivory long dress (4 Color)\",\n",
    "            \"image_url\": \"https://mud-kage.kakao.com/dn/RY8ZN/btqgOGzITp3/uCM1x2xu7GNfr7NS9QvEs0/kakaolink40_original.png\",\n",
    "            \"image_width\": 640,\n",
    "            \"image_height\": 640,\n",
    "            \"link\": {\n",
    "                \"web_url\": \"https://style.kakao.com/main/women/contentId=100\",\n",
    "                \"mobile_web_url\": \"https://style.kakao.com/main/women/contentId=100\",\n",
    "                \"android_execution_params\": \"contentId=100\",\n",
    "                \"ios_execution_params\": \"contentId=100\"\n",
    "            }\n",
    "        }\n",
    "\n",
    "commerce = {\n",
    "            \"regular_price\": 208800,\n",
    "            \"discount_price\": 146160,\n",
    "            \"discount_rate\": 30\n",
    "        }\n",
    "\n",
    "button = [\n",
    "            {\n",
    "                \"title\": \"구매하기\",\n",
    "                \"link\": {\n",
    "                    \"web_url\": \"https://style.kakao.com/main/women/contentId=100/buy\",\n",
    "                    \"mobile_web_url\": \"https://style.kakao.com/main/women/contentId=100/buy\",\n",
    "                    \"android_execution_params\": \"contentId=100&buy=true\",\n",
    "                    \"ios_execution_params\": \"contentId=100&buy=true\"\n",
    "                }\n",
    "            },\n",
    "            {\n",
    "                \"title\": \"공유하기\",\n",
    "                \"link\": {\n",
    "                    \"web_url\": \"https://style.kakao.com/main/women/contentId=100/share\",\n",
    "                    \"mobile_web_url\": \"https://style.kakao.com/main/women/contentId=100/share\",\n",
    "                    \"android_execution_params\": \"contentId=100&share=true\",\n",
    "                    \"ios_execution_params\": \"contentId=100&share=true\"\n",
    "                }\n",
    "            }\n",
    "        ]\n",
    "\n",
    "API.send_commerce(content=content, commerce=commerce, button=button)"
   ]
  },
  {
   "cell_type": "code",
   "execution_count": null,
   "metadata": {},
   "outputs": [],
   "source": [
    "# 텍스트 메시지 전송\n",
    "\n",
    "text = \"텍스트 영역입니다. 최대 200자 표시 가능합니다.\"\n",
    "link = {\n",
    "            \"web_url\": \"https://developers.kakao.com\",\n",
    "            \"mobile_web_url\": \"https://developers.kakao.com\"\n",
    "        }\n",
    "button_title = \"바로 확인\"\n",
    "\n",
    "API.send_text(text=text, link={}, button_title=button_title)"
   ]
  },
  {
   "cell_type": "markdown",
   "metadata": {},
   "source": [
    "## KoGPT"
   ]
  },
  {
   "cell_type": "code",
   "execution_count": 4,
   "metadata": {},
   "outputs": [],
   "source": [
    "# KoGPT API 세션 정의\n",
    "GPT = KoGPT(service_key)"
   ]
  },
  {
   "cell_type": "markdown",
   "metadata": {},
   "source": [
    "### 다음 문장 만들기"
   ]
  },
  {
   "cell_type": "code",
   "execution_count": 5,
   "metadata": {},
   "outputs": [
    {
     "data": {
      "text/plain": [
       "{'id': 'b34dcd23-96a1-4500-8095-9616dacba075',\n",
       " 'generations': [{'text': ' 난제를 해결하게 될 것\"이라고 말했다.\\n----\\n미국 캘리포니아 공과대학에서 열린 제1회 인간 두뇌 프로젝트 국제회의에서 발표한 것은? 인간 두뇌 작동원리 규명[EOS]',\n",
       "   'tokens': 42}],\n",
       " 'usage': {'prompt_tokens': 22, 'generated_tokens': 42, 'total_tokens': 64}}"
      ]
     },
     "execution_count": 5,
     "metadata": {},
     "output_type": "execute_result"
    }
   ],
   "source": [
    "# 필수 파라미터\n",
    "prompt = \"인간처럼 생각하고, 행동하는 '지능'을 통해 인류가 이제까지 풀지 못했던\"\n",
    "max_tokens = 64\n",
    "\n",
    "# 결과 조회\n",
    "result = GPT.generate(prompt, max_tokens, temperature=0.7, top_p=0.8)\n",
    "result"
   ]
  },
  {
   "cell_type": "markdown",
   "metadata": {},
   "source": [
    "### 문장 분류하기"
   ]
  },
  {
   "cell_type": "code",
   "execution_count": 10,
   "metadata": {},
   "outputs": [
    {
     "data": {
      "text/plain": [
       "{'id': '5f03b1f9-2728-48d4-a41e-a6b7f9266304',\n",
       " 'generations': [{'text': '긍정', 'tokens': 1}],\n",
       " 'usage': {'prompt_tokens': 78, 'generated_tokens': 1, 'total_tokens': 79}}"
      ]
     },
     "execution_count": 10,
     "metadata": {},
     "output_type": "execute_result"
    }
   ],
   "source": [
    "# 필수 파라미터\n",
    "prompt = \"\"\"상품 후기를 긍정 또는 부정으로 분류합니다.\n",
    "가격대비좀 부족한게많은듯=부정\n",
    "재구매 친구들이 좋은 향 난다고 해요=긍정\n",
    "ㅠㅠ약간 후회가 됩니다..=부정\n",
    "이전에 먹고 만족해서 재구매합니다=긍정\n",
    "튼튼하고 잘 쓸수 있을 것 같습니다. 이 가격에 이 퀄리티면 훌륭하죠=\"\"\"\n",
    "max_tokens = 1\n",
    "\n",
    "# 결과 조회\n",
    "result = GPT.generate(prompt, max_tokens, temperature=0.4)\n",
    "result"
   ]
  },
  {
   "cell_type": "markdown",
   "metadata": {},
   "source": [
    "### 뉴스 한 줄 요약하기"
   ]
  },
  {
   "cell_type": "code",
   "execution_count": 11,
   "metadata": {},
   "outputs": [
    {
     "data": {
      "text/plain": [
       "{'id': 'ddefa1c3-b4c5-44ec-abfe-d8d278a0f349',\n",
       " 'generations': [{'text': \" 카카오의 AI 서비스 기업 카카오브레인은 카카오메이커스와 카카오브레인의 AI 아티스트 '칼로' 와 함께 멸종 위기 동물 보호에 힘을 보태기 위해  '세계 동물의 날'을 맞아 오는 12일까지 카카오메이커스에서 AI 아티스트 '칼로' 와 고상우 작가가 협업한 제품을 단독 판매한다.[EOS]\",\n",
       "   'tokens': 71}],\n",
       " 'usage': {'prompt_tokens': 524, 'generated_tokens': 71, 'total_tokens': 595}}"
      ]
     },
     "execution_count": 11,
     "metadata": {},
     "output_type": "execute_result"
    }
   ],
   "source": [
    "# 필수 파라미터\n",
    "prompt = \"\"\"카카오(각자대표 남궁훈, 홍은택)의 임팩트 커머스 카카오메이커스와 카카오브레인(대표 김일두)이 '세계 동물의 날'을 맞아 멸종 위기 동물 보호에 힘을 보탠다. \n",
    "\n",
    "카카오메이커스와 카카오브레인은 4일 세계 동물의 날을 맞아, 카카오브레인의 AI 아티스트 '칼로' 와 현대미술가 고상우 작가가 협업한 제품을 오는 12일까지 카카오메이커스에서 단독 판매한다고 밝혔다. 판매 수익금 전액은 WWF(세계자연기금)에 기부할 예정이다. \n",
    "\n",
    "이번 프로젝트에 참여한 AI 아티스트 '칼로'는 'minDALL-E', 'RQ-Transformer' 등 카카오브레인의 초거대 이미지 생성 AI 모델을 발전시켜 하나의 페르소나로 재탄생한 AI 아티스트다. 1.8억 장 규모의 텍스트-이미지 데이터셋을 학습해 이해한 문맥을 바탕으로 다양한 화풍과 스타일로 이미지를 생성할 수 있다. 올해 6월에는 고상우 작가와의 공동 작업으로 생성한 1,000개의 호랑이 이미지를 조합한 디지털 작품으로 전시회를 진행한 바 있다. \n",
    "\n",
    "이번 프로젝트를 통해 선보이는 제품은 맨투맨과 머그컵이다. '칼로'가 생성한 호랑이 그림과 푸른색 사진 예술의 선구자인 고상우 작가 특유의 드로잉이 조화롭게 어우러져 완성된 500점의 호랑이 그림 모자이크 'Blue Tiger'가 새겨져 있다. 판매 수익금 전액은 WWF(세계자연기금)에 기부됨과 동시에, 낭비 없는 생산을 위해 주문 수량만큼 제품을 생산하는 카카오메이커스의 환경친화적 주문제작 방식(POD 생산)을 도입했다. \n",
    "\n",
    "카카오브레인 김일두 대표는 \"AI 아티스트 칼로가 생성한 예술 작품으로 멸종 위기 동물 보호 활동에 동참하게 되어 기쁘다\"며, \"앞으로도 우리의 AI 기술을 통해 사회에 환원할 수 있는 의미 있는 프로젝트에 지속 참여하겠다\"며 포부를 전했다. \n",
    "\n",
    "카카오 정영주 메이커스 실장은 \"지난 8월 고양이의 날을 기념한 제품을 기획/판매해 기부한데 이어 사회의 다양한 구성원을 존중하고 배려하는 프로젝트를 이어가고 있다\"며 \"더 나은 세상을 만들기 위한 이용자들의 관심을 확인하고 있으며, 앞으로도 임팩트 커머스로서 다양한 가치를 담은 메이커스만의 제품을 선보일 것\" 이라고 밝혔다.\n",
    "\n",
    "한줄 요약:\"\"\"\n",
    "max_tokens = 128\n",
    "\n",
    "# 결과 조회\n",
    "result = GPT.generate(prompt, max_tokens, top_p=0.7)\n",
    "result"
   ]
  },
  {
   "cell_type": "markdown",
   "metadata": {},
   "source": [
    "### 질문에 답변하기"
   ]
  },
  {
   "cell_type": "code",
   "execution_count": null,
   "metadata": {},
   "outputs": [],
   "source": [
    "# 필수 파라미터\n",
    "prompt = \"\"\"의료 스타트업으로 구성된 원격의료산업협의회가 10월부터 열리는 국정감사 시기에 맞춰 국회와 정부에 비대면 진료법 근거 마련을 촉구하는 정책제안서를 제출한다. 코로나19 사태에 비대면 진료의 한시 허용으로 원격 진료, 의약품 배송 등 서비스가 속속 등장하는 가운데 제도화 논의를 서둘러야 한다는 목소리가 높아질 것으로 전망된다. 코리아스타트업포럼 산하 원격의료산업협의회는 '위드(with) 코로나' 방역 체계 전환을 염두에 두고 비대면 진료 제도화 촉구를 위한 공동 대응 작업을 추진하고 있다. 협의회는 닥터나우, 엠디스퀘어, SH바이오, 메디버디 등 의료 스타트업 13개사로 구성됐다. 협의회는 국정감사 시기를 겨냥해 국회와 주무 부처인 보건복지부에 비대면 진료의 법적 근거 마련을 촉구할 방침이다. 이를 위해 주요 의원실과 관련 의견을 교환하고 있다. 협의회는 궁극적으로 의료법과 약사법 개정이 필요하지만 의료법 테두리 안에서 시행령 개정 등으로도 비대면 진료 가능성과 대상·의료기관 등을 구체화할 수 있다는 복안이다. 복지부 장관령으로 비대면 진료 기간을 명시하는 방안 등을 통해 사업 리스크도 줄일 수 있다. 올해 안에 국내 방역체계 패러다임이 바뀔 것으로 예상되는 점도 비대면 진료 제도화의 필요성을 높이고 있다. 최근 코로나19 백신 접종이 속도를 내면서 방역 당국은 위드 코로나 방역체계 전환을 고려하고 있다. 인구 대비 백신 접종 완료율이 70%가 되는 오는 10월 말에는 전환 논의가 수면 위로 뜰 것으로 보인다.\n",
    "정책제안서를 제출하는 시기는 언제인가?:\"\"\"\n",
    "max_tokens = 128\n",
    "\n",
    "# 결과 조회\n",
    "result = GPT.generate(prompt, max_tokens, temperature=0.2)\n",
    "result"
   ]
  },
  {
   "cell_type": "markdown",
   "metadata": {},
   "source": [
    "### 특정 정보 추려내기"
   ]
  },
  {
   "cell_type": "code",
   "execution_count": null,
   "metadata": {},
   "outputs": [],
   "source": [
    "# 필수 파라미터\n",
    "prompt = \"\"\"임진왜란(壬辰倭亂)은 1592년(선조 25년) 도요토미 정권이 조선을 침략하면서 발발하여 1598년(선조 31년)까지 이어진 전쟁이다. 또한 임진왜란은 동아시아에 막대한 영향을 끼쳤으며, 두번의 침입이 있어서 제2차 침략은 정유재란이라 따로 부르기도 한다. 또한 이때 조선은 경복궁과 창덕궁 등 2개의 궁궐이 소실되었으며 약 백만명의 인구가 소실되었다.\n",
    "\n",
    "명칭\n",
    "일반적으로 임진년에 일어난 왜의 난리란 뜻으로 지칭되며 그 밖에 조선과 일본 사이에 일어난 전쟁이란 뜻에서 조일전쟁(朝日戰爭), 임진년에 일어난 전쟁이란 뜻에서 임진전쟁(壬辰戰爭), 도자기공들이 일본으로 납치된 후 일본에 도자기 문화가 전파되었다 하여 도자기 전쟁(陶瓷器戰爭)이라고도 한다. 일본에서는 당시 연호를 따서 분로쿠의 역(일본어: 文禄の役 분로쿠노에키[*])이라 하며, 중화인민공화국과 중화민국에서는 당시 명나라 황제였던 만력제의 호를 따 만력조선전쟁(萬曆朝鮮戰爭, 중국어: 萬曆朝鮮之役), 혹은 조선을 도와 왜와 싸웠다 하여 항왜원조(抗倭援朝)라고도 하며, 조선민주주의인민공화국에서는 임진조국전쟁(壬辰祖國戰爭)이라고 한다. 그밖에도 7년간의 전쟁이라 하여 7년 전쟁(七年戰爭)으로도 부른다.\n",
    "\n",
    "임진왜란 때 조선의 왕은?\n",
    "\n",
    "답:\"\"\"\n",
    "max_tokens = 1\n",
    "\n",
    "# 결과 조회\n",
    "result = GPT.generate(prompt, max_tokens, temperature=0.3)\n",
    "result"
   ]
  },
  {
   "cell_type": "markdown",
   "metadata": {},
   "source": [
    "### 말투 바꾸기"
   ]
  },
  {
   "cell_type": "code",
   "execution_count": null,
   "metadata": {},
   "outputs": [],
   "source": [
    "# 필수 파라미터\n",
    "prompt = \"\"\"주어진 문장을 존댓말 문장으로 바꿔주세요.\n",
    "\n",
    "문장:하지마!\n",
    "존댓말:하지 말아주세요.\n",
    "\n",
    "문장:나랑 같이 놀러가자\n",
    "존댓말:저랑 같이 놀러가지 않으실래요?\n",
    "\n",
    "문장:배고파 밥줘\n",
    "존댓말:배가고픈데 밥을 먹어도 될까요?\n",
    "\n",
    "문장:그거 재밌어?\n",
    "존댓말:그것은 재미 있나요?\n",
    "\n",
    "문장:뭐하는거야 지금\n",
    "존댓말:지금 무엇을 하시는 건가요?\n",
    "\n",
    "문장:당장 제자리에 돌려놔\n",
    "존댓말:\"\"\"\n",
    "max_tokens = 10\n",
    "\n",
    "# 결과 조회\n",
    "result = GPT.generate(prompt, max_tokens, temperature=0.7)\n",
    "result"
   ]
  },
  {
   "cell_type": "markdown",
   "metadata": {},
   "source": [
    "### 채팅하기"
   ]
  },
  {
   "cell_type": "code",
   "execution_count": null,
   "metadata": {},
   "outputs": [],
   "source": [
    "# 필수 파라미터\n",
    "prompt = \"\"\"정보:거주지 서울, 나이 30대, 성별 남자, 자녀 두 명, 전공 인공지능, 말투 친절함\n",
    "정보를 바탕으로 질문에 답하세요.\n",
    "Q:안녕하세요 반갑습니다. 자기소개 부탁드려도 될까요?\n",
    "A:안녕하세요. 저는 서울에 거주하고 있는 30대 남성입니다.\n",
    "Q:오 그렇군요, 결혼은 하셨나요?\n",
    "A:\"\"\"\n",
    "max_tokens = 32\n",
    "\n",
    "# 결과 조회\n",
    "result = GPT.generate(prompt, max_tokens, temperature=0.3, top_p=0.85)\n",
    "result"
   ]
  },
  {
   "cell_type": "markdown",
   "metadata": {},
   "source": [
    "## Daum 검색"
   ]
  },
  {
   "cell_type": "code",
   "execution_count": null,
   "metadata": {},
   "outputs": [],
   "source": [
    "# Daum 검색 API 세션 정의\n",
    "DAUM = DaumSearch(service_key)"
   ]
  },
  {
   "cell_type": "markdown",
   "metadata": {},
   "source": [
    "### 웹문서 검색"
   ]
  },
  {
   "cell_type": "code",
   "execution_count": null,
   "metadata": {},
   "outputs": [],
   "source": [
    "df = DAUM.search_web(\"파이썬\", dataframe=True)\n",
    "df.head(1)"
   ]
  },
  {
   "cell_type": "markdown",
   "metadata": {},
   "source": [
    "### 동영상 검색"
   ]
  },
  {
   "cell_type": "code",
   "execution_count": null,
   "metadata": {},
   "outputs": [],
   "source": [
    "df = DAUM.search_vclip(\"파이썬\", dataframe=True)\n",
    "df.head(1)"
   ]
  },
  {
   "cell_type": "markdown",
   "metadata": {},
   "source": [
    "### 이미지 검색"
   ]
  },
  {
   "cell_type": "code",
   "execution_count": null,
   "metadata": {},
   "outputs": [],
   "source": [
    "df = DAUM.search_image(\"파이썬\", dataframe=True)\n",
    "df.head(1)"
   ]
  },
  {
   "cell_type": "markdown",
   "metadata": {},
   "source": [
    "### 블로그 검색"
   ]
  },
  {
   "cell_type": "code",
   "execution_count": null,
   "metadata": {},
   "outputs": [],
   "source": [
    "df = DAUM.search_blog(\"파이썬\", dataframe=True)\n",
    "df.head(1)"
   ]
  },
  {
   "cell_type": "markdown",
   "metadata": {},
   "source": [
    "### 책 검색"
   ]
  },
  {
   "cell_type": "code",
   "execution_count": null,
   "metadata": {},
   "outputs": [],
   "source": [
    "df = DAUM.search_book(\"파이썬\", dataframe=True)\n",
    "df.head(1)"
   ]
  },
  {
   "cell_type": "markdown",
   "metadata": {},
   "source": [
    "### 카페 검색"
   ]
  },
  {
   "cell_type": "code",
   "execution_count": null,
   "metadata": {},
   "outputs": [],
   "source": [
    "df = DAUM.search_cafe(\"파이썬\", dataframe=True)\n",
    "df.head(1)"
   ]
  },
  {
   "cell_type": "markdown",
   "metadata": {},
   "source": [
    "## 로컬"
   ]
  },
  {
   "cell_type": "code",
   "execution_count": null,
   "metadata": {},
   "outputs": [],
   "source": [
    "# 로컬 API 세션 정의\n",
    "LOCAL = Local(service_key)"
   ]
  },
  {
   "cell_type": "markdown",
   "metadata": {},
   "source": [
    "### 주소 검색하기"
   ]
  },
  {
   "cell_type": "code",
   "execution_count": null,
   "metadata": {},
   "outputs": [],
   "source": [
    "df =  LOCAL.search_address(\"백현동\", dataframe=True)\n",
    "df.head(1)"
   ]
  },
  {
   "cell_type": "markdown",
   "metadata": {},
   "source": [
    "### 좌표로 행정구역정보 받기"
   ]
  },
  {
   "cell_type": "code",
   "execution_count": null,
   "metadata": {},
   "outputs": [],
   "source": [
    "df =  LOCAL.geo_coord2regioncode(127.110871319215, 37.3885490672089, dataframe=True)\n",
    "df.head(1)"
   ]
  },
  {
   "cell_type": "markdown",
   "metadata": {},
   "source": [
    "### 좌표로 주소 변환하기"
   ]
  },
  {
   "cell_type": "code",
   "execution_count": null,
   "metadata": {},
   "outputs": [],
   "source": [
    "df =  LOCAL.geo_coord2address(127.110871319215, 37.3885490672089, dataframe=True)\n",
    "df.head(1)"
   ]
  },
  {
   "cell_type": "markdown",
   "metadata": {},
   "source": [
    "### 좌표계 변환하기"
   ]
  },
  {
   "cell_type": "code",
   "execution_count": null,
   "metadata": {},
   "outputs": [],
   "source": [
    "df =  LOCAL.geo_transcoord(127.110871319215, 37.3885490672089, \"WCONGNAMUL\", dataframe=True)\n",
    "df.head(1)"
   ]
  },
  {
   "cell_type": "markdown",
   "metadata": {},
   "source": [
    "### 키워드로 장소 검색하기"
   ]
  },
  {
   "cell_type": "code",
   "execution_count": null,
   "metadata": {},
   "outputs": [],
   "source": [
    "df =  LOCAL.search_keyword(\"판교역\", dataframe=True)\n",
    "df.head(1)"
   ]
  },
  {
   "cell_type": "markdown",
   "metadata": {},
   "source": [
    "### 카테고리로 장소 검색하기"
   ]
  },
  {
   "cell_type": "code",
   "execution_count": null,
   "metadata": {},
   "outputs": [],
   "source": [
    "df =  LOCAL.search_category(\"MT1\", x=127.110871319215, y=37.3885490672089, radius=500, dataframe=True)\n",
    "df.head(1)"
   ]
  }
 ],
 "metadata": {
  "kernelspec": {
   "display_name": "Python 3.9.12 ('venv': venv)",
   "language": "python",
   "name": "python3"
  },
  "language_info": {
   "codemirror_mode": {
    "name": "ipython",
    "version": 3
   },
   "file_extension": ".py",
   "mimetype": "text/x-python",
   "name": "python",
   "nbconvert_exporter": "python",
   "pygments_lexer": "ipython3",
   "version": "3.9.12"
  },
  "orig_nbformat": 4,
  "vscode": {
   "interpreter": {
    "hash": "567ebf779ab057336346e5e5d8765889add1baa170f14c836a9fdc8dbc506338"
   }
  }
 },
 "nbformat": 4,
 "nbformat_minor": 2
}
