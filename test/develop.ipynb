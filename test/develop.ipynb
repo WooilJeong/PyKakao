{
 "cells": [
  {
   "cell_type": "code",
   "execution_count": null,
   "metadata": {},
   "outputs": [],
   "source": [
    "import os\n",
    "import sys\n",
    "from pathlib import Path\n",
    "sys.path.append(str(Path(os.getcwd()).parent))"
   ]
  },
  {
   "cell_type": "code",
   "execution_count": null,
   "metadata": {},
   "outputs": [],
   "source": [
    "from PyKakao import *\n",
    "from config import KEYS\n",
    "api_key = KEYS.get(\"KAKAO\")"
   ]
  },
  {
   "cell_type": "code",
   "execution_count": null,
   "metadata": {},
   "outputs": [],
   "source": [
    "import requests\n",
    "\n",
    "# 인가코드\n",
    "code = \"\"\n",
    "\n",
    "# URL\n",
    "url = \"https://kauth.kakao.com/oauth/token\"\n",
    "\n",
    "# 데이터\n",
    "req_data = {\n",
    "    \"grant_type\": \"authorization_code\",\n",
    "    \"client_id\": api_key,\n",
    "    \"redirect_uri\": \"https://localhost:5000\",\n",
    "    \"code\": code,\n",
    "}\n",
    "\n",
    "r = requests.post(url, data = req_data)\n",
    "token_info = r.json()\n",
    "token_info"
   ]
  },
  {
   "cell_type": "code",
   "execution_count": null,
   "metadata": {},
   "outputs": [],
   "source": [
    "# 액세스 토큰\n",
    "access_token = token_info['access_token']\n",
    "access_token"
   ]
  },
  {
   "attachments": {},
   "cell_type": "markdown",
   "metadata": {},
   "source": [
    "## requests"
   ]
  },
  {
   "cell_type": "code",
   "execution_count": null,
   "metadata": {},
   "outputs": [],
   "source": [
    "import json\n",
    "api_url = \"https://kapi.kakao.com/v2/api/talk/memo/default/send\"\n",
    "headers = {\"Authorization\": f\"Bearer {access_token}\"}\n",
    "json_data = json.dumps(\n",
    "    {\n",
    "        \"object_type\": \"text\",\n",
    "        \"text\": \"카카오 메시지 API 테스트\",\n",
    "        \"link\": {\n",
    "            \"web_url\": \"https://www.naver.com\",\n",
    "            \"mobile_url\": \"https://m.naver.com\"\n",
    "        },\n",
    "        \"button_title\": \"바로 확인\",\n",
    "    }\n",
    ")\n",
    "data = {\"template_object\": json_data}\n",
    "r = requests.post(api_url, headers=headers, data=data)\n",
    "r"
   ]
  },
  {
   "cell_type": "code",
   "execution_count": null,
   "metadata": {},
   "outputs": [],
   "source": []
  },
  {
   "cell_type": "code",
   "execution_count": null,
   "metadata": {},
   "outputs": [],
   "source": []
  },
  {
   "cell_type": "code",
   "execution_count": null,
   "metadata": {},
   "outputs": [],
   "source": []
  },
  {
   "cell_type": "code",
   "execution_count": null,
   "metadata": {},
   "outputs": [],
   "source": []
  },
  {
   "cell_type": "code",
   "execution_count": null,
   "metadata": {},
   "outputs": [],
   "source": []
  },
  {
   "cell_type": "code",
   "execution_count": null,
   "metadata": {},
   "outputs": [],
   "source": []
  },
  {
   "cell_type": "code",
   "execution_count": null,
   "metadata": {},
   "outputs": [],
   "source": []
  }
 ],
 "metadata": {
  "kernelspec": {
   "display_name": "Python 3.9.12 ('venv': venv)",
   "language": "python",
   "name": "python3"
  },
  "language_info": {
   "codemirror_mode": {
    "name": "ipython",
    "version": 3
   },
   "file_extension": ".py",
   "mimetype": "text/x-python",
   "name": "python",
   "nbconvert_exporter": "python",
   "pygments_lexer": "ipython3",
   "version": "3.9.12"
  },
  "orig_nbformat": 4,
  "vscode": {
   "interpreter": {
    "hash": "567ebf779ab057336346e5e5d8765889add1baa170f14c836a9fdc8dbc506338"
   }
  }
 },
 "nbformat": 4,
 "nbformat_minor": 2
}
