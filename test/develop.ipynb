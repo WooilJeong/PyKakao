{
 "cells": [
  {
   "cell_type": "code",
   "execution_count": null,
   "metadata": {},
   "outputs": [],
   "source": [
    "import os\n",
    "import sys\n",
    "from pathlib import Path\n",
    "sys.path.append(str(Path(os.getcwd()).parent))"
   ]
  },
  {
   "cell_type": "code",
   "execution_count": null,
   "metadata": {},
   "outputs": [],
   "source": [
    "from config import KEYS\n",
    "service_key = KEYS.get(\"KAKAO\")"
   ]
  },
  {
   "cell_type": "code",
   "execution_count": null,
   "metadata": {},
   "outputs": [],
   "source": [
    "import requests\n",
    "import json\n",
    "import io\n",
    "import base64\n",
    "from PIL import Image"
   ]
  },
  {
   "cell_type": "code",
   "execution_count": null,
   "metadata": {},
   "outputs": [],
   "source": [
    "class Karlo:\n",
    "\n",
    "    def __init__(self, service_key=None):\n",
    "        self.service_key = service_key\n",
    "        self.headers = {\"Authorization\": f\"KakaoAK {self.service_key}\",\n",
    "                        \"Content-Type\": \"application/json\"}\n",
    "\n",
    "    def text_to_image(self, text, batch_size=1):\n",
    "        \"\"\"\n",
    "        이미지 생성하기 API\n",
    "\n",
    "        Parameters\n",
    "        ----------\n",
    "        text : str\n",
    "            생성할 이미지를 묘사하는 제시어, 영문만 지원(최대: 256자)\n",
    "            참고: \n",
    "                활용 가이드(https://developers.kakao.com/docs/latest/ko/karlo/how-to-use)\n",
    "        batch_size : int, optional\n",
    "            생성할 이미지 수(기본값: 1, 최대: 8)\n",
    "\n",
    "        Returns\n",
    "        -------\n",
    "        dict\n",
    "            생성된 이미지의 정보\n",
    "        \"\"\"\n",
    "        _url = \"https://api.kakaobrain.com/v1/inference/karlo/t2i\"\n",
    "        _json = {\n",
    "            \"prompt\": {\n",
    "                \"text\": text,\n",
    "                \"batch_size\": batch_size,\n",
    "            }\n",
    "        }\n",
    "        return requests.post(_url, json=_json, headers=self.headers).json()\n",
    "\n",
    "    def transform_image(self, image, batch_size=1):\n",
    "        \"\"\"\n",
    "        이미지 변환하기\n",
    "\n",
    "        Parameters\n",
    "        ----------\n",
    "        image : str\n",
    "            변환할 원본 이미지를 Base64 인코딩한 값\n",
    "            참고: \n",
    "                이미지 파일 규격(https://developers.kakao.com/docs/latest/ko/karlo/rest-api#before-you-begin-image-requirement)\n",
    "                이미지 인코딩 및 디코딩(https://developers.kakao.com/docs/latest/ko/karlo/rest-api#before-you-begin-encode-and-decode)\n",
    "        batch_size : int, optional\n",
    "            생성할 이미지 수(기본값: 1, 최대: 8)\n",
    "\n",
    "        Returns\n",
    "        -------\n",
    "        dict\n",
    "            생성된 이미지의 정보\n",
    "        \"\"\"\n",
    "        _url = \"https://api.kakaobrain.com/v1/inference/karlo/variations\"\n",
    "        _json = {\n",
    "            \"prompt\": {\n",
    "                \"image\": image,\n",
    "                \"batch_size\": batch_size,\n",
    "            }\n",
    "        }\n",
    "        return requests.post(_url, json=_json, headers=self.headers).json()\n",
    "\n",
    "    def inpaint_image(self, image, mask, text=\"\", batch_size=1):\n",
    "        \"\"\"\n",
    "        이미지 편집하기\n",
    "\n",
    "        Parameters\n",
    "        ----------\n",
    "        image : str\n",
    "            원본 이미지를 Base64 인코딩한 값\n",
    "            참고:\n",
    "                이미지 파일 규격(https://developers.kakao.com/docs/latest/ko/karlo/rest-api#before-you-begin-image-requirement)\n",
    "                이미지 인코딩 및 디코딩(https://developers.kakao.com/docs/latest/ko/karlo/rest-api#before-you-begin-encode-and-decode)\n",
    "        mask : str\n",
    "            편집할 부분을 표시한 원본 이미지를 Base64 인코딩한 값\n",
    "            편집할 부분을 검은색(Grayscale, RGB 기준 0)으로 가려서 표시\n",
    "            이미지의 여러 곳 마스킹 가능\n",
    "            참고:\n",
    "                이미지 파일 규격(https://developers.kakao.com/docs/latest/ko/karlo/rest-api#before-you-begin-image-requirement)\n",
    "                이미지 인코딩 및 디코딩(https://developers.kakao.com/docs/latest/ko/karlo/rest-api#before-you-begin-encode-and-decode)  \n",
    "        text : str, optional\n",
    "            편집해 넣을 이미지를 묘사하는 제시어, 영문만 지원(최대: 256자)\n",
    "            text 값이 설정되지 않으면 편집할 부분의 주변과 어울리도록 사물을 삭제하거나 대체함\n",
    "            (기본값: \"\", 빈 문자열)\n",
    "            참고:\n",
    "                활용 가이드(https://developers.kakao.com/docs/latest/ko/karlo/how-to-use)\n",
    "        batch_size : int, optional\n",
    "            생성할 이미지 수(기본값: 1, 최대: 8)\n",
    "\n",
    "        Returns\n",
    "        -------\n",
    "        dict\n",
    "            생성된 이미지의 정보\n",
    "        \"\"\"\n",
    "        _url = \"https://api.kakaobrain.com/v1/inference/karlo/inpainting\"\n",
    "        _json = {\n",
    "            \"prompt\": {\n",
    "                \"image\": image,\n",
    "                \"mask\": mask,\n",
    "                \"text\": text,\n",
    "                \"batch_size\": batch_size,\n",
    "            }\n",
    "        }\n",
    "        return requests.post(_url, json=_json, headers=self.headers).json()\n",
    "    \n",
    "    def string_to_image(self, base64_string, mode='RGBA'):\n",
    "        \"\"\"\n",
    "        base64 string을 이미지로 변환\n",
    "\n",
    "        Parameters\n",
    "        ----------\n",
    "        base64_string : str\n",
    "            base64 string\n",
    "        mode : str, optional\n",
    "            이미지 모드(기본값: RGBA)\n",
    "\n",
    "        Returns\n",
    "        -------\n",
    "        PIL.Image\n",
    "            이미지\n",
    "        \"\"\"\n",
    "        return Image.open(io.BytesIO(base64.b64decode(str(base64_string)))).convert(mode)\n",
    "\n",
    "    def image_to_string(self, img):\n",
    "        \"\"\"\n",
    "        이미지를 base64 string으로 변환\n",
    "\n",
    "        Parameters\n",
    "        ----------\n",
    "        img : PIL.Image\n",
    "            이미지\n",
    "\n",
    "        Returns\n",
    "        -------\n",
    "        str\n",
    "            base64 string\n",
    "        \"\"\"\n",
    "        img_byte_arr = io.BytesIO()\n",
    "        img.save(img_byte_arr, format='PNG')\n",
    "        my_encoded_img = base64.encodebytes(img_byte_arr.getvalue()).decode('ascii')\n",
    "        return my_encoded_img"
   ]
  },
  {
   "attachments": {},
   "cell_type": "markdown",
   "metadata": {},
   "source": [
    "- Karlo API 인스턴스 생성"
   ]
  },
  {
   "cell_type": "code",
   "execution_count": null,
   "metadata": {},
   "outputs": [],
   "source": [
    "# 인스턴스 생성\n",
    "api = Karlo(service_key)"
   ]
  },
  {
   "attachments": {},
   "cell_type": "markdown",
   "metadata": {},
   "source": [
    "- 이미지 생성하기"
   ]
  },
  {
   "cell_type": "code",
   "execution_count": null,
   "metadata": {},
   "outputs": [],
   "source": [
    "\n",
    "# 프롬프트에 사용할 제시어\n",
    "text = \"\"\n",
    "\n",
    "# 이미지 생성하기 REST API 호출\n",
    "img_dict = api.text_to_image(text, 1)\n",
    "\n",
    "# 생성된 이미지 정보\n",
    "img_str = img_dict.get(\"images\")[0].get('image')\n",
    "\n",
    "# base64 string을 이미지로 변환\n",
    "img = api.string_to_image(base64_string = img_str, mode = 'RGBA')\n",
    "img"
   ]
  },
  {
   "attachments": {},
   "cell_type": "markdown",
   "metadata": {},
   "source": [
    "- 이미지 변환하기"
   ]
  },
  {
   "cell_type": "code",
   "execution_count": null,
   "metadata": {},
   "outputs": [],
   "source": [
    "# 이미지 파일 불러오기\n",
    "img = Image.open('./original.png')\n",
    "\n",
    "# 이미지를 Base64 인코딩하기\n",
    "img_base64 = api.image_to_string(img)\n",
    "\n",
    "# 이미지 변환하기 REST API 호출\n",
    "response = api.transform_image(image = img_base64, batch_size=1)\n",
    "\n",
    "# 응답의 첫 번째 이미지 생성 결과 출력하기\n",
    "result = api.string_to_image(response.get(\"images\")[0].get(\"image\"), mode = 'RGB')"
   ]
  },
  {
   "attachments": {},
   "cell_type": "markdown",
   "metadata": {},
   "source": [
    "- 이미지 편집하기"
   ]
  },
  {
   "cell_type": "code",
   "execution_count": null,
   "metadata": {},
   "outputs": [],
   "source": [
    "# 이미지 파일 불러오기\n",
    "img = Image.open('./original.png')\n",
    "mask = Image.open('./mask.png')\n",
    "\n",
    "# 이미지를 Base64 인코딩하기\n",
    "img_base64 = api.image_to_string(img)\n",
    "mask_base64 = api.image_to_string(mask)\n",
    "\n",
    "# 프롬프트에 사용할 제시어\n",
    "text = \"Flowers\"\n",
    "\n",
    "# 이미지 변환하기 REST API 호출\n",
    "response = api.inpaint_image(image = img_base64, mask = mask_base64, text = text, batch_size = 1)\n",
    "\n",
    "# 응답의 첫 번째 이미지 생성 결과 출력하기\n",
    "result = api.string_to_image(response.get(\"images\")[0].get(\"image\"), mode = 'RGB')"
   ]
  }
 ],
 "metadata": {
  "kernelspec": {
   "display_name": "Python 3.9.12 ('venv': venv)",
   "language": "python",
   "name": "python3"
  },
  "language_info": {
   "codemirror_mode": {
    "name": "ipython",
    "version": 3
   },
   "file_extension": ".py",
   "mimetype": "text/x-python",
   "name": "python",
   "nbconvert_exporter": "python",
   "pygments_lexer": "ipython3",
   "version": "3.9.12 (main, Apr  4 2022, 05:22:27) [MSC v.1916 64 bit (AMD64)]"
  },
  "orig_nbformat": 4,
  "vscode": {
   "interpreter": {
    "hash": "567ebf779ab057336346e5e5d8765889add1baa170f14c836a9fdc8dbc506338"
   }
  }
 },
 "nbformat": 4,
 "nbformat_minor": 2
}
